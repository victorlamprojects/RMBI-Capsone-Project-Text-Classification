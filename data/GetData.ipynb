{
 "cells": [
  {
   "cell_type": "code",
   "execution_count": 7,
   "id": "pretty-updating",
   "metadata": {},
   "outputs": [],
   "source": [
    "import pandas as pd\n",
    "from selenium import webdriver\n",
    "from webdriver_manager.chrome import ChromeDriverManager\n",
    "import time\n",
    "from os import system, name, path\n",
    "from bs4 import BeautifulSoup\n",
    "from selenium.webdriver.common.action_chains import ActionChains\n",
    "from selenium.webdriver.support.ui import WebDriverWait as wait\n",
    "from selenium.webdriver.support import expected_conditions as EC\n",
    "from selenium.webdriver.common.by import By\n",
    "from selenium.webdriver.common.keys import Keys\n",
    "from selenium.common.exceptions import TimeoutException\n",
    "import warnings\n",
    "warnings.filterwarnings(\"ignore\", category=DeprecationWarning) \n",
    "\n",
    "import os\n",
    "if not os.path.exists(\"./raw\"):\n",
    "    os.makedirs(\"./raw\")"
   ]
  },
  {
   "cell_type": "code",
   "execution_count": 8,
   "id": "emotional-vision",
   "metadata": {},
   "outputs": [],
   "source": [
    "# Global Constant\n",
    "num_posts_per_cat = 500\n",
    "category = pd.read_csv('./hashtag_list.csv')"
   ]
  },
  {
   "cell_type": "code",
   "execution_count": 9,
   "id": "indirect-hearts",
   "metadata": {},
   "outputs": [
    {
     "name": "stderr",
     "output_type": "stream",
     "text": [
      "[WDM] - \n",
      "\n",
      "[WDM] - ====== WebDriver manager ======\n",
      "[WDM] - Current google-chrome version is 97.0.4692\n",
      "[WDM] - Get LATEST driver version for 97.0.4692\n",
      "[WDM] - Driver [/home/victor/.wdm/drivers/chromedriver/linux64/97.0.4692.71/chromedriver] found in cache\n"
     ]
    }
   ],
   "source": [
    "## Chrome\n",
    "chrome_options = webdriver.ChromeOptions()\n",
    "chrome_options.add_argument(\"--incognito\")\n",
    "driver = webdriver.Chrome(executable_path=ChromeDriverManager().install(), chrome_options=chrome_options)"
   ]
  },
  {
   "cell_type": "code",
   "execution_count": 10,
   "id": "genuine-enough",
   "metadata": {},
   "outputs": [],
   "source": [
    "# Login\n",
    "def login(user, pw):\n",
    "    try:\n",
    "        driver.get('https://www.facebook.com')\n",
    "        username = driver.find_element_by_id(\"email\")\n",
    "        password = driver.find_element_by_id(\"pass\")\n",
    "        username.send_keys(user)\n",
    "        password.send_keys(pw)\n",
    "        driver.find_elements_by_name(\"login\")[0].click()\n",
    "    except:\n",
    "        print('Login Failed...')\n",
    "# Get Hashtag\n",
    "def getPosts(hashtag, n=100, search_list=None):\n",
    "    try:\n",
    "        result = []\n",
    "        if not search_list:\n",
    "            search_list = [hashtag]\n",
    "        for tag in search_list:\n",
    "            if len(result) >= n:\n",
    "                break\n",
    "            print(f\"Using keyword - {tag}\")\n",
    "            driver.get(f'https://www.facebook.com/hashtag/{tag}')\n",
    "            stag_count = 0\n",
    "            cur_found = 0\n",
    "            retry_count = 0\n",
    "            # Scroll until get n posts\n",
    "            while cur_found < n - len(result) + 20:\n",
    "                if cur_found == len(driver.find_elements_by_xpath(\"//div[@role='article']\")):\n",
    "                    stag_count += 1\n",
    "                else:\n",
    "                    stag_count = 0\n",
    "                if stag_count == 50:\n",
    "                    if retry_count >= 3:\n",
    "                        # Stuck\n",
    "                        break\n",
    "                    driver.refresh()\n",
    "                    stag_count = 0\n",
    "                    retry_count += 1\n",
    "                    continue\n",
    "                print(f'Current number of posts: {cur_found}...', end='\\r')\n",
    "                driver.find_element_by_tag_name('html').send_keys(Keys.END)\n",
    "                time.sleep(1)\n",
    "                cur_found = len(driver.find_elements_by_xpath(\"//div[@role='article']\"))\n",
    "            cur_found = len(driver.find_elements_by_xpath(\"//div[@role='article']\"))\n",
    "            print(f'\\nTotal number of posts found by using keyword {tag}: {cur_found}')\n",
    "            # Click see more\n",
    "            for i in range(cur_found):\n",
    "                print(f\"Clicking 'See more' of posts...{i+1}\", end=\"\\r\")\n",
    "                posts = driver.find_elements_by_xpath(\"//div[@role='article']\")\n",
    "                if len(posts) <= i:\n",
    "                    break\n",
    "                p = posts[i]\n",
    "                driver.execute_script(\"arguments[0].scrollIntoView({block: 'center'});\", p)\n",
    "                time.sleep(1)\n",
    "                try:\n",
    "                    if 'See more' in p.text:\n",
    "                        seeMoreBtn = wait(p, 5).until(EC.element_to_be_clickable((By.XPATH, \"//div[contains(text(), 'See more')]\")))\n",
    "                        driver.execute_script(\"arguments[0].scrollIntoView({block: 'end'});\", seeMoreBtn)\n",
    "                        time.sleep(1)\n",
    "                        seeMoreBtn.click()\n",
    "                        time.sleep(1)\n",
    "                except TimeoutException:\n",
    "                    time.sleep(1)\n",
    "                result.append(p.text)\n",
    "            print(\"\")\n",
    "        if len(result) < n:\n",
    "            raise Exception('Not enough posts after searching all tags')\n",
    "        return result[:n]\n",
    "    except Exception as e:\n",
    "        print('')\n",
    "        print(e)\n",
    "        print('Search hashtag failed...')\n",
    "        return None"
   ]
  },
  {
   "cell_type": "code",
   "execution_count": 11,
   "id": "listed-prayer",
   "metadata": {},
   "outputs": [
    {
     "name": "stdout",
     "output_type": "stream",
     "text": [
      "Getting hashtag - restaurant (1/1)\n",
      "Using keyword - restaurant\n",
      "Current number of posts: 132...\n",
      "Total number of posts found by using keyword restaurant: 138\n",
      "Clicking 'See more' of posts...138\n",
      "Using keyword - restaurants\n",
      "Current number of posts: 248...\n",
      "Total number of posts found by using keyword restaurants: 253\n",
      "Clicking 'See more' of posts...252\n",
      "\n",
      "Not enough posts after searching all tags\n",
      "Search hashtag failed...\n"
     ]
    }
   ],
   "source": [
    "total = []\n",
    "failed_tag = []\n",
    "for index, row in category.iterrows():\n",
    "    data = pd.DataFrame()\n",
    "    search_list = row['SearchList']\n",
    "    tag = row['Hashtag']\n",
    "    print(f\"Getting hashtag - {tag} ({index+1}/{category.shape[0]})\")\n",
    "    # check if file already exists and having enough\n",
    "    if path.exists(f\"./{tag}.csv\"):\n",
    "        d = pd.read_csv(f\"./{tag}.csv\")\n",
    "        if d.shape[0] >= num_posts_per_cat:\n",
    "            print(\"Skipped\")\n",
    "            continue\n",
    "    # check if nan\n",
    "    if search_list != search_list:\n",
    "        search_list = [tag]\n",
    "    else:\n",
    "        search_list = [tag] + search_list.split(',')\n",
    "        search_list = list(dict.fromkeys(search_list).keys())\n",
    "    posts = getPosts(tag, num_posts_per_cat, search_list)\n",
    "    if posts == None or len(posts) == 0:\n",
    "        failed_tag.append(tag)\n",
    "        continue\n",
    "    data['content'] = posts\n",
    "    data['tag'] = tag\n",
    "    data['group'] = row['Group']\n",
    "    total.append(data)\n",
    "    data.to_csv(f\"./raw/{tag}.csv\", index=False)"
   ]
  },
  {
   "cell_type": "code",
   "execution_count": 12,
   "id": "continental-venture",
   "metadata": {},
   "outputs": [
    {
     "data": {
      "text/plain": [
       "['restaurant']"
      ]
     },
     "execution_count": 12,
     "metadata": {},
     "output_type": "execute_result"
    }
   ],
   "source": [
    "failed_tag"
   ]
  },
  {
   "cell_type": "code",
   "execution_count": null,
   "id": "hollow-footage",
   "metadata": {},
   "outputs": [],
   "source": []
  },
  {
   "cell_type": "code",
   "execution_count": null,
   "id": "cathedral-trail",
   "metadata": {},
   "outputs": [],
   "source": []
  },
  {
   "cell_type": "code",
   "execution_count": null,
   "id": "ideal-copper",
   "metadata": {},
   "outputs": [],
   "source": []
  }
 ],
 "metadata": {
  "kernelspec": {
   "display_name": "Python 3",
   "language": "python",
   "name": "python3"
  },
  "language_info": {
   "codemirror_mode": {
    "name": "ipython",
    "version": 3
   },
   "file_extension": ".py",
   "mimetype": "text/x-python",
   "name": "python",
   "nbconvert_exporter": "python",
   "pygments_lexer": "ipython3",
   "version": "3.8.10"
  }
 },
 "nbformat": 4,
 "nbformat_minor": 5
}
